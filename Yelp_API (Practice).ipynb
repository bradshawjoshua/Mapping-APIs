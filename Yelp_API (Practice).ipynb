{
 "cells": [
  {
   "cell_type": "markdown",
   "id": "220a74e5",
   "metadata": {},
   "source": [
    "## Loading Your API Keys"
   ]
  },
  {
   "cell_type": "code",
   "execution_count": 1,
   "id": "fe5b4451",
   "metadata": {},
   "outputs": [
    {
     "data": {
      "text/plain": [
       "dict_keys(['client-id', 'api-key'])"
      ]
     },
     "execution_count": 1,
     "metadata": {},
     "output_type": "execute_result"
    }
   ],
   "source": [
    "import json\n",
    "with open('C:/Users/joshu/.secret/yelp_api.json') as f: #change the path to match YOUR path!!\n",
    "    login = json.load(f)\n",
    "login.keys()"
   ]
  },
  {
   "cell_type": "code",
   "execution_count": 2,
   "id": "c8bb7d96",
   "metadata": {},
   "outputs": [
    {
     "data": {
      "text/plain": [
       "<yelpapi.yelpapi.YelpAPI at 0x18cd4c797c0>"
      ]
     },
     "execution_count": 2,
     "metadata": {},
     "output_type": "execute_result"
    }
   ],
   "source": [
    "from yelpapi import YelpAPI\n",
    "yelp_api = YelpAPI(login['api-key'], timeout_s=5.0)\n",
    "yelp_api"
   ]
  },
  {
   "cell_type": "code",
   "execution_count": 3,
   "id": "298c7c3d",
   "metadata": {},
   "outputs": [
    {
     "data": {
      "text/plain": [
       "dict_keys(['businesses', 'total', 'region'])"
      ]
     },
     "execution_count": 3,
     "metadata": {},
     "output_type": "execute_result"
    }
   ],
   "source": [
    "results = yelp_api.search_query(location='Baltimore, MD',\n",
    "                                       term='Crab Cake')\n",
    "type(results)\n",
    "results.keys()"
   ]
  },
  {
   "cell_type": "markdown",
   "id": "6e254068",
   "metadata": {},
   "source": [
    "## Using the with command"
   ]
  },
  {
   "cell_type": "code",
   "execution_count": 4,
   "id": "1cbe7a45",
   "metadata": {},
   "outputs": [
    {
     "data": {
      "text/plain": [
       "'My test message to save to file.\\nIt is a multi-line string.'"
      ]
     },
     "execution_count": 4,
     "metadata": {},
     "output_type": "execute_result"
    }
   ],
   "source": [
    "message = \"\"\"My test message to save to file.\n",
    "It is a multi-line string.\"\"\"\n",
    "message"
   ]
  },
  {
   "cell_type": "code",
   "execution_count": 5,
   "id": "ff93d452",
   "metadata": {},
   "outputs": [],
   "source": [
    "# Save it to a file\n",
    "with open('example_file.txt','w') as file:\n",
    "    file.write(message)"
   ]
  },
  {
   "cell_type": "code",
   "execution_count": 6,
   "id": "1e0f5946",
   "metadata": {},
   "outputs": [
    {
     "data": {
      "text/plain": [
       "'My test message to save to file.\\nIt is a multi-line string.'"
      ]
     },
     "execution_count": 6,
     "metadata": {},
     "output_type": "execute_result"
    }
   ],
   "source": [
    "with open('example_file.txt','r') as f:\n",
    "    loaded = f.read()\n",
    "    \n",
    "loaded"
   ]
  },
  {
   "cell_type": "markdown",
   "id": "531a7dbd",
   "metadata": {},
   "source": [
    "## Opening JSON Files and using the json module"
   ]
  },
  {
   "cell_type": "code",
   "execution_count": 7,
   "id": "7cd93f5c",
   "metadata": {},
   "outputs": [
    {
     "data": {
      "text/plain": [
       "{'stack': 4,\n",
       " 'week': 2,\n",
       " 'things learned': ['MySQL',\n",
       "  'MySQL WorkBench',\n",
       "  'GitHub Desktop',\n",
       "  'Jupyter Notebooks',\n",
       "  'JSON']}"
      ]
     },
     "execution_count": 7,
     "metadata": {},
     "output_type": "execute_result"
    }
   ],
   "source": [
    "data = {'stack':4, 'week':2, \n",
    "       'things learned':['MySQL','MySQL WorkBench',\n",
    "                         'GitHub Desktop','Jupyter Notebooks','JSON' ]}\n",
    "data"
   ]
  },
  {
   "cell_type": "code",
   "execution_count": 8,
   "id": "1d70d1f0",
   "metadata": {},
   "outputs": [],
   "source": [
    "## save dict to json file with json.dump\n",
    "with open('example_saved_data.json','w') as f:\n",
    "    json.dump(data, f)"
   ]
  },
  {
   "cell_type": "code",
   "execution_count": 9,
   "id": "1b29615e",
   "metadata": {},
   "outputs": [
    {
     "data": {
      "text/plain": [
       "{'stack': 4,\n",
       " 'week': 2,\n",
       " 'things learned': ['MySQL',\n",
       "  'MySQL WorkBench',\n",
       "  'GitHub Desktop',\n",
       "  'Jupyter Notebooks',\n",
       "  'JSON']}"
      ]
     },
     "execution_count": 9,
     "metadata": {},
     "output_type": "execute_result"
    }
   ],
   "source": [
    "## Load saved json file back to dictionary\n",
    "with open('example_saved_data.json') as f:\n",
    "    loaded = json.load(f)\n",
    "loaded"
   ]
  },
  {
   "cell_type": "code",
   "execution_count": 10,
   "id": "50708f07",
   "metadata": {},
   "outputs": [
    {
     "name": "stdout",
     "output_type": "stream",
     "text": [
      "<class 'dict'>\n"
     ]
    },
    {
     "data": {
      "text/plain": [
       "dict_keys(['stack', 'week', 'things learned'])"
      ]
     },
     "execution_count": 10,
     "metadata": {},
     "output_type": "execute_result"
    }
   ],
   "source": [
    "print(type(loaded))\n",
    "loaded.keys()"
   ]
  },
  {
   "cell_type": "code",
   "execution_count": null,
   "id": "69a46ce9",
   "metadata": {},
   "outputs": [],
   "source": []
  }
 ],
 "metadata": {
  "kernelspec": {
   "display_name": "Python (dojo-env)",
   "language": "python",
   "name": "dojo-env"
  },
  "language_info": {
   "codemirror_mode": {
    "name": "ipython",
    "version": 3
   },
   "file_extension": ".py",
   "mimetype": "text/x-python",
   "name": "python",
   "nbconvert_exporter": "python",
   "pygments_lexer": "ipython3",
   "version": "3.8.13"
  },
  "toc": {
   "base_numbering": 1,
   "nav_menu": {},
   "number_sections": false,
   "sideBar": true,
   "skip_h1_title": false,
   "title_cell": "Table of Contents",
   "title_sidebar": "Contents",
   "toc_cell": false,
   "toc_position": {},
   "toc_section_display": true,
   "toc_window_display": false
  }
 },
 "nbformat": 4,
 "nbformat_minor": 5
}
