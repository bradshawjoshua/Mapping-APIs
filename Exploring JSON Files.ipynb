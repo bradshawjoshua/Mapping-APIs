{
 "cells": [
  {
   "cell_type": "code",
   "execution_count": 2,
   "id": "c6304606",
   "metadata": {},
   "outputs": [
    {
     "data": {
      "text/plain": [
       "dict"
      ]
     },
     "execution_count": 2,
     "metadata": {},
     "output_type": "execute_result"
    }
   ],
   "source": [
    "# Open the jsonfile and display the first level of keys\n",
    "# open API results WITH json module\n",
    "import json\n",
    "with open('Data/example_yelp_results.json') as f:   #adjust for your path\n",
    "    json_file = json.load(f)\n",
    "    \n",
    "## What type is top-level of json?\n",
    "type(json_file)"
   ]
  },
  {
   "cell_type": "markdown",
   "id": "41d2c731",
   "metadata": {},
   "source": [
    "## What is the levels of the JSON data?"
   ]
  },
  {
   "cell_type": "code",
   "execution_count": 3,
   "id": "00d91a3a",
   "metadata": {},
   "outputs": [
    {
     "data": {
      "text/plain": [
       "dict_keys(['businesses', 'total', 'region'])"
      ]
     },
     "execution_count": 3,
     "metadata": {},
     "output_type": "execute_result"
    }
   ],
   "source": [
    "# what are the keys?\n",
    "json_file.keys()"
   ]
  },
  {
   "cell_type": "code",
   "execution_count": 4,
   "id": "c444a91f",
   "metadata": {},
   "outputs": [
    {
     "data": {
      "text/plain": [
       "dict"
      ]
     },
     "execution_count": 4,
     "metadata": {},
     "output_type": "execute_result"
    }
   ],
   "source": [
    "# what type is region?\n",
    "type(json_file['region'])"
   ]
  },
  {
   "cell_type": "code",
   "execution_count": 5,
   "id": "0e709889",
   "metadata": {},
   "outputs": [
    {
     "data": {
      "text/plain": [
       "dict_keys(['center'])"
      ]
     },
     "execution_count": 5,
     "metadata": {},
     "output_type": "execute_result"
    }
   ],
   "source": [
    "# what keys are in region?\n",
    "json_file['region'].keys()"
   ]
  },
  {
   "cell_type": "code",
   "execution_count": 6,
   "id": "c959d5ce",
   "metadata": {},
   "outputs": [
    {
     "data": {
      "text/plain": [
       "dict"
      ]
     },
     "execution_count": 6,
     "metadata": {},
     "output_type": "execute_result"
    }
   ],
   "source": [
    "# what type is center?\n",
    "type(json_file['region']['center'])"
   ]
  },
  {
   "cell_type": "code",
   "execution_count": 7,
   "id": "40e21f4a",
   "metadata": {},
   "outputs": [
    {
     "data": {
      "text/plain": [
       "dict_keys(['longitude', 'latitude'])"
      ]
     },
     "execution_count": 7,
     "metadata": {},
     "output_type": "execute_result"
    }
   ],
   "source": [
    "# what are the keys in center?\n",
    "json_file['region']['center'].keys()"
   ]
  },
  {
   "cell_type": "code",
   "execution_count": 8,
   "id": "68dad682",
   "metadata": {},
   "outputs": [
    {
     "data": {
      "text/plain": [
       "{'longitude': -76.607666015625, 'latitude': 39.29617825404647}"
      ]
     },
     "execution_count": 8,
     "metadata": {},
     "output_type": "execute_result"
    }
   ],
   "source": [
    "# Visualize the whole center dict, since lat and long are likely single values\n",
    "json_file['region']['center']"
   ]
  },
  {
   "cell_type": "code",
   "execution_count": 9,
   "id": "609e7d45",
   "metadata": {},
   "outputs": [
    {
     "data": {
      "text/plain": [
       "int"
      ]
     },
     "execution_count": 9,
     "metadata": {},
     "output_type": "execute_result"
    }
   ],
   "source": [
    "# what is stored under the \"total\" key?\n",
    "type(json_file['total'])"
   ]
  },
  {
   "cell_type": "code",
   "execution_count": 10,
   "id": "02d5a065",
   "metadata": {},
   "outputs": [
    {
     "data": {
      "text/plain": [
       "435"
      ]
     },
     "execution_count": 10,
     "metadata": {},
     "output_type": "execute_result"
    }
   ],
   "source": [
    "## what is the value?\n",
    "json_file['total']"
   ]
  },
  {
   "cell_type": "code",
   "execution_count": 11,
   "id": "972dcaef",
   "metadata": {},
   "outputs": [
    {
     "data": {
      "text/plain": [
       "20"
      ]
     },
     "execution_count": 11,
     "metadata": {},
     "output_type": "execute_result"
    }
   ],
   "source": [
    "# how long is businesses?\n",
    "len(json_file['businesses'])"
   ]
  },
  {
   "cell_type": "code",
   "execution_count": 12,
   "id": "ad1c62d5",
   "metadata": {},
   "outputs": [
    {
     "data": {
      "text/plain": [
       "{'id': 'D9A33FM394q99o4QtK5YwA',\n",
       " 'alias': 'faidleys-seafood-baltimore-3',\n",
       " 'name': 'Faidleys Seafood',\n",
       " 'image_url': 'https://s3-media3.fl.yelpcdn.com/bphoto/OTjVDCVS7pGopH6GZcfjBA/o.jpg',\n",
       " 'is_closed': False,\n",
       " 'url': 'https://www.yelp.com/biz/faidleys-seafood-baltimore-3?adjust_creative=KJtcufKUS887p24u6rjVIQ&utm_campaign=yelp_api_v3&utm_medium=api_v3_business_search&utm_source=KJtcufKUS887p24u6rjVIQ',\n",
       " 'review_count': 1184,\n",
       " 'categories': [{'alias': 'seafood', 'title': 'Seafood'},\n",
       "  {'alias': 'beerbar', 'title': 'Beer Bar'}],\n",
       " 'rating': 4.0,\n",
       " 'coordinates': {'latitude': 39.291696, 'longitude': -76.62224},\n",
       " 'transactions': ['delivery'],\n",
       " 'price': '$$',\n",
       " 'location': {'address1': '203 N Paca St',\n",
       "  'address2': '',\n",
       "  'address3': '',\n",
       "  'city': 'Baltimore',\n",
       "  'zip_code': '21201',\n",
       "  'country': 'US',\n",
       "  'state': 'MD',\n",
       "  'display_address': ['203 N Paca St', 'Baltimore, MD 21201']},\n",
       " 'phone': '+14107274898',\n",
       " 'display_phone': '(410) 727-4898',\n",
       " 'distance': 1349.560720156645}"
      ]
     },
     "execution_count": 12,
     "metadata": {},
     "output_type": "execute_result"
    }
   ],
   "source": [
    "# what does the first entry of business look like?\n",
    "json_file['businesses'][0]\n"
   ]
  },
  {
   "cell_type": "code",
   "execution_count": 13,
   "id": "3d8d748f",
   "metadata": {},
   "outputs": [
    {
     "data": {
      "text/plain": [
       "dict_keys(['id', 'alias', 'name', 'image_url', 'is_closed', 'url', 'review_count', 'categories', 'rating', 'coordinates', 'transactions', 'price', 'location', 'phone', 'display_phone', 'distance'])"
      ]
     },
     "execution_count": 13,
     "metadata": {},
     "output_type": "execute_result"
    }
   ],
   "source": [
    "## what are the keys of the first entry in businesses?\n",
    "json_file['businesses'][0].keys()\n",
    "\n"
   ]
  },
  {
   "cell_type": "code",
   "execution_count": 14,
   "id": "c74490d2",
   "metadata": {},
   "outputs": [
    {
     "data": {
      "text/plain": [
       "dict_keys(['id', 'alias', 'name', 'image_url', 'is_closed', 'url', 'review_count', 'categories', 'rating', 'coordinates', 'transactions', 'price', 'location', 'phone', 'display_phone', 'distance'])"
      ]
     },
     "execution_count": 14,
     "metadata": {},
     "output_type": "execute_result"
    }
   ],
   "source": [
    "## what are the keys of the NEXT entry in businesses? Do they macth the first?\n",
    "json_file['businesses'][1].keys()\n",
    "\n"
   ]
  },
  {
   "cell_type": "markdown",
   "id": "d3110786",
   "metadata": {},
   "source": [
    "## Identifying \"records\""
   ]
  },
  {
   "cell_type": "code",
   "execution_count": 15,
   "id": "5cc990b3",
   "metadata": {},
   "outputs": [
    {
     "data": {
      "text/html": [
       "<div>\n",
       "<style scoped>\n",
       "    .dataframe tbody tr th:only-of-type {\n",
       "        vertical-align: middle;\n",
       "    }\n",
       "\n",
       "    .dataframe tbody tr th {\n",
       "        vertical-align: top;\n",
       "    }\n",
       "\n",
       "    .dataframe thead th {\n",
       "        text-align: right;\n",
       "    }\n",
       "</style>\n",
       "<table border=\"1\" class=\"dataframe\">\n",
       "  <thead>\n",
       "    <tr style=\"text-align: right;\">\n",
       "      <th></th>\n",
       "      <th>id</th>\n",
       "      <th>alias</th>\n",
       "      <th>name</th>\n",
       "      <th>image_url</th>\n",
       "      <th>is_closed</th>\n",
       "      <th>url</th>\n",
       "      <th>review_count</th>\n",
       "      <th>categories</th>\n",
       "      <th>rating</th>\n",
       "      <th>coordinates</th>\n",
       "      <th>transactions</th>\n",
       "      <th>price</th>\n",
       "      <th>location</th>\n",
       "      <th>phone</th>\n",
       "      <th>display_phone</th>\n",
       "      <th>distance</th>\n",
       "    </tr>\n",
       "  </thead>\n",
       "  <tbody>\n",
       "    <tr>\n",
       "      <th>0</th>\n",
       "      <td>D9A33FM394q99o4QtK5YwA</td>\n",
       "      <td>faidleys-seafood-baltimore-3</td>\n",
       "      <td>Faidleys Seafood</td>\n",
       "      <td>https://s3-media3.fl.yelpcdn.com/bphoto/OTjVDC...</td>\n",
       "      <td>False</td>\n",
       "      <td>https://www.yelp.com/biz/faidleys-seafood-balt...</td>\n",
       "      <td>1184</td>\n",
       "      <td>[{'alias': 'seafood', 'title': 'Seafood'}, {'a...</td>\n",
       "      <td>4.0</td>\n",
       "      <td>{'latitude': 39.291696, 'longitude': -76.62224}</td>\n",
       "      <td>[delivery]</td>\n",
       "      <td>$$</td>\n",
       "      <td>{'address1': '203 N Paca St', 'address2': '', ...</td>\n",
       "      <td>+14107274898</td>\n",
       "      <td>(410) 727-4898</td>\n",
       "      <td>1349.560720</td>\n",
       "    </tr>\n",
       "    <tr>\n",
       "      <th>1</th>\n",
       "      <td>u65W69AhbjUlvJJBkEhGNQ</td>\n",
       "      <td>miss-shirleys-cafe-baltimore-9</td>\n",
       "      <td>Miss Shirley's Cafe</td>\n",
       "      <td>https://s3-media4.fl.yelpcdn.com/bphoto/9FsOyV...</td>\n",
       "      <td>False</td>\n",
       "      <td>https://www.yelp.com/biz/miss-shirleys-cafe-ba...</td>\n",
       "      <td>2919</td>\n",
       "      <td>[{'alias': 'breakfast_brunch', 'title': 'Break...</td>\n",
       "      <td>4.0</td>\n",
       "      <td>{'latitude': 39.2870995, 'longitude': -76.6053...</td>\n",
       "      <td>[delivery, pickup]</td>\n",
       "      <td>$$</td>\n",
       "      <td>{'address1': '750 E Pratt St', 'address2': '',...</td>\n",
       "      <td>+14105285373</td>\n",
       "      <td>(410) 528-5373</td>\n",
       "      <td>1028.736468</td>\n",
       "    </tr>\n",
       "    <tr>\n",
       "      <th>2</th>\n",
       "      <td>ieS_5zqxDHcWMCm8BKUYbg</td>\n",
       "      <td>thames-street-oyster-house-baltimore</td>\n",
       "      <td>Thames Street Oyster House</td>\n",
       "      <td>https://s3-media1.fl.yelpcdn.com/bphoto/9hGjo5...</td>\n",
       "      <td>False</td>\n",
       "      <td>https://www.yelp.com/biz/thames-street-oyster-...</td>\n",
       "      <td>2729</td>\n",
       "      <td>[{'alias': 'seafood', 'title': 'Seafood'}, {'a...</td>\n",
       "      <td>4.5</td>\n",
       "      <td>{'latitude': 39.28214, 'longitude': -76.59162}</td>\n",
       "      <td>[delivery]</td>\n",
       "      <td>$$$</td>\n",
       "      <td>{'address1': '1728 Thames St', 'address2': '',...</td>\n",
       "      <td>+14434497726</td>\n",
       "      <td>(443) 449-7726</td>\n",
       "      <td>2090.712792</td>\n",
       "    </tr>\n",
       "    <tr>\n",
       "      <th>3</th>\n",
       "      <td>6am8TZAFnvND52MOz-Yctg</td>\n",
       "      <td>mamas-on-the-half-shell-baltimore</td>\n",
       "      <td>Mama's On The Half Shell</td>\n",
       "      <td>https://s3-media2.fl.yelpcdn.com/bphoto/HWY8OF...</td>\n",
       "      <td>False</td>\n",
       "      <td>https://www.yelp.com/biz/mamas-on-the-half-she...</td>\n",
       "      <td>1279</td>\n",
       "      <td>[{'alias': 'bars', 'title': 'Bars'}, {'alias':...</td>\n",
       "      <td>4.0</td>\n",
       "      <td>{'latitude': 39.27986, 'longitude': -76.5752399}</td>\n",
       "      <td>[delivery, pickup]</td>\n",
       "      <td>$$</td>\n",
       "      <td>{'address1': '2901 Odonnell St', 'address2': '...</td>\n",
       "      <td>+14102763160</td>\n",
       "      <td>(410) 276-3160</td>\n",
       "      <td>3328.825798</td>\n",
       "    </tr>\n",
       "    <tr>\n",
       "      <th>4</th>\n",
       "      <td>ISn7WyGQaFpsVSRSh0NSqg</td>\n",
       "      <td>sal-and-sons-baltimore</td>\n",
       "      <td>Sal and Sons</td>\n",
       "      <td>https://s3-media3.fl.yelpcdn.com/bphoto/LmVL4j...</td>\n",
       "      <td>False</td>\n",
       "      <td>https://www.yelp.com/biz/sal-and-sons-baltimor...</td>\n",
       "      <td>153</td>\n",
       "      <td>[{'alias': 'seafood', 'title': 'Seafood'}, {'a...</td>\n",
       "      <td>4.5</td>\n",
       "      <td>{'latitude': 39.284, 'longitude': -76.59337}</td>\n",
       "      <td>[delivery]</td>\n",
       "      <td>$</td>\n",
       "      <td>{'address1': '1640 Aliceanna St', 'address2': ...</td>\n",
       "      <td>+14106751466</td>\n",
       "      <td>(410) 675-1466</td>\n",
       "      <td>1817.406978</td>\n",
       "    </tr>\n",
       "  </tbody>\n",
       "</table>\n",
       "</div>"
      ],
      "text/plain": [
       "                       id                                 alias  \\\n",
       "0  D9A33FM394q99o4QtK5YwA          faidleys-seafood-baltimore-3   \n",
       "1  u65W69AhbjUlvJJBkEhGNQ        miss-shirleys-cafe-baltimore-9   \n",
       "2  ieS_5zqxDHcWMCm8BKUYbg  thames-street-oyster-house-baltimore   \n",
       "3  6am8TZAFnvND52MOz-Yctg     mamas-on-the-half-shell-baltimore   \n",
       "4  ISn7WyGQaFpsVSRSh0NSqg                sal-and-sons-baltimore   \n",
       "\n",
       "                         name  \\\n",
       "0            Faidleys Seafood   \n",
       "1         Miss Shirley's Cafe   \n",
       "2  Thames Street Oyster House   \n",
       "3    Mama's On The Half Shell   \n",
       "4                Sal and Sons   \n",
       "\n",
       "                                           image_url  is_closed  \\\n",
       "0  https://s3-media3.fl.yelpcdn.com/bphoto/OTjVDC...      False   \n",
       "1  https://s3-media4.fl.yelpcdn.com/bphoto/9FsOyV...      False   \n",
       "2  https://s3-media1.fl.yelpcdn.com/bphoto/9hGjo5...      False   \n",
       "3  https://s3-media2.fl.yelpcdn.com/bphoto/HWY8OF...      False   \n",
       "4  https://s3-media3.fl.yelpcdn.com/bphoto/LmVL4j...      False   \n",
       "\n",
       "                                                 url  review_count  \\\n",
       "0  https://www.yelp.com/biz/faidleys-seafood-balt...          1184   \n",
       "1  https://www.yelp.com/biz/miss-shirleys-cafe-ba...          2919   \n",
       "2  https://www.yelp.com/biz/thames-street-oyster-...          2729   \n",
       "3  https://www.yelp.com/biz/mamas-on-the-half-she...          1279   \n",
       "4  https://www.yelp.com/biz/sal-and-sons-baltimor...           153   \n",
       "\n",
       "                                          categories  rating  \\\n",
       "0  [{'alias': 'seafood', 'title': 'Seafood'}, {'a...     4.0   \n",
       "1  [{'alias': 'breakfast_brunch', 'title': 'Break...     4.0   \n",
       "2  [{'alias': 'seafood', 'title': 'Seafood'}, {'a...     4.5   \n",
       "3  [{'alias': 'bars', 'title': 'Bars'}, {'alias':...     4.0   \n",
       "4  [{'alias': 'seafood', 'title': 'Seafood'}, {'a...     4.5   \n",
       "\n",
       "                                         coordinates        transactions  \\\n",
       "0    {'latitude': 39.291696, 'longitude': -76.62224}          [delivery]   \n",
       "1  {'latitude': 39.2870995, 'longitude': -76.6053...  [delivery, pickup]   \n",
       "2     {'latitude': 39.28214, 'longitude': -76.59162}          [delivery]   \n",
       "3   {'latitude': 39.27986, 'longitude': -76.5752399}  [delivery, pickup]   \n",
       "4       {'latitude': 39.284, 'longitude': -76.59337}          [delivery]   \n",
       "\n",
       "  price                                           location         phone  \\\n",
       "0    $$  {'address1': '203 N Paca St', 'address2': '', ...  +14107274898   \n",
       "1    $$  {'address1': '750 E Pratt St', 'address2': '',...  +14105285373   \n",
       "2   $$$  {'address1': '1728 Thames St', 'address2': '',...  +14434497726   \n",
       "3    $$  {'address1': '2901 Odonnell St', 'address2': '...  +14102763160   \n",
       "4     $  {'address1': '1640 Aliceanna St', 'address2': ...  +14106751466   \n",
       "\n",
       "    display_phone     distance  \n",
       "0  (410) 727-4898  1349.560720  \n",
       "1  (410) 528-5373  1028.736468  \n",
       "2  (443) 449-7726  2090.712792  \n",
       "3  (410) 276-3160  3328.825798  \n",
       "4  (410) 675-1466  1817.406978  "
      ]
     },
     "execution_count": 15,
     "metadata": {},
     "output_type": "execute_result"
    }
   ],
   "source": [
    "import pandas as pd\n",
    "df_businesses = pd.DataFrame(json_file['businesses'])\n",
    "df_businesses.head()"
   ]
  },
  {
   "cell_type": "code",
   "execution_count": 16,
   "id": "698f3c82",
   "metadata": {},
   "outputs": [
    {
     "data": {
      "text/html": [
       "<div>\n",
       "<style scoped>\n",
       "    .dataframe tbody tr th:only-of-type {\n",
       "        vertical-align: middle;\n",
       "    }\n",
       "\n",
       "    .dataframe tbody tr th {\n",
       "        vertical-align: top;\n",
       "    }\n",
       "\n",
       "    .dataframe thead th {\n",
       "        text-align: right;\n",
       "    }\n",
       "</style>\n",
       "<table border=\"1\" class=\"dataframe\">\n",
       "  <thead>\n",
       "    <tr style=\"text-align: right;\">\n",
       "      <th></th>\n",
       "      <th>categories</th>\n",
       "      <th>coordinates</th>\n",
       "      <th>location</th>\n",
       "    </tr>\n",
       "  </thead>\n",
       "  <tbody>\n",
       "    <tr>\n",
       "      <th>0</th>\n",
       "      <td>[{'alias': 'seafood', 'title': 'Seafood'}, {'a...</td>\n",
       "      <td>{'latitude': 39.291696, 'longitude': -76.62224}</td>\n",
       "      <td>{'address1': '203 N Paca St', 'address2': '', ...</td>\n",
       "    </tr>\n",
       "    <tr>\n",
       "      <th>1</th>\n",
       "      <td>[{'alias': 'breakfast_brunch', 'title': 'Break...</td>\n",
       "      <td>{'latitude': 39.2870995, 'longitude': -76.6053...</td>\n",
       "      <td>{'address1': '750 E Pratt St', 'address2': '',...</td>\n",
       "    </tr>\n",
       "    <tr>\n",
       "      <th>2</th>\n",
       "      <td>[{'alias': 'seafood', 'title': 'Seafood'}, {'a...</td>\n",
       "      <td>{'latitude': 39.28214, 'longitude': -76.59162}</td>\n",
       "      <td>{'address1': '1728 Thames St', 'address2': '',...</td>\n",
       "    </tr>\n",
       "  </tbody>\n",
       "</table>\n",
       "</div>"
      ],
      "text/plain": [
       "                                          categories  \\\n",
       "0  [{'alias': 'seafood', 'title': 'Seafood'}, {'a...   \n",
       "1  [{'alias': 'breakfast_brunch', 'title': 'Break...   \n",
       "2  [{'alias': 'seafood', 'title': 'Seafood'}, {'a...   \n",
       "\n",
       "                                         coordinates  \\\n",
       "0    {'latitude': 39.291696, 'longitude': -76.62224}   \n",
       "1  {'latitude': 39.2870995, 'longitude': -76.6053...   \n",
       "2     {'latitude': 39.28214, 'longitude': -76.59162}   \n",
       "\n",
       "                                            location  \n",
       "0  {'address1': '203 N Paca St', 'address2': '', ...  \n",
       "1  {'address1': '750 E Pratt St', 'address2': '',...  \n",
       "2  {'address1': '1728 Thames St', 'address2': '',...  "
      ]
     },
     "execution_count": 16,
     "metadata": {},
     "output_type": "execute_result"
    }
   ],
   "source": [
    "df_businesses[['categories','coordinates','location']].head(3)"
   ]
  },
  {
   "cell_type": "markdown",
   "id": "3e6c2eb8",
   "metadata": {},
   "source": [
    "## API Calls Using the YelpAPI Package"
   ]
  },
  {
   "cell_type": "code",
   "execution_count": 19,
   "id": "8665aa98",
   "metadata": {},
   "outputs": [
    {
     "data": {
      "text/plain": [
       "dict_keys(['client-id', 'api-key'])"
      ]
     },
     "execution_count": 19,
     "metadata": {},
     "output_type": "execute_result"
    }
   ],
   "source": [
    "import json\n",
    "with open('C:/Users/joshu/.secret/yelp_api.json') as f:\n",
    "    login = json.load(f)\n",
    "login.keys()"
   ]
  },
  {
   "cell_type": "code",
   "execution_count": 20,
   "id": "34a63e63",
   "metadata": {},
   "outputs": [
    {
     "data": {
      "text/plain": [
       "<yelpapi.yelpapi.YelpAPI at 0x1eadc280ca0>"
      ]
     },
     "execution_count": 20,
     "metadata": {},
     "output_type": "execute_result"
    }
   ],
   "source": [
    "# import the YelpAPI Class\n",
    "from yelpapi import YelpAPI\n",
    "# Create an instance with your key\n",
    "yelp_api = YelpAPI(login['api-key'], timeout_s=5.0)\n",
    "yelp_api"
   ]
  },
  {
   "cell_type": "code",
   "execution_count": 21,
   "id": "656c69f0",
   "metadata": {},
   "outputs": [
    {
     "name": "stdout",
     "output_type": "stream",
     "text": [
      "Help on method search_query in module yelpapi.yelpapi:\n",
      "\n",
      "search_query(**kwargs) method of yelpapi.yelpapi.YelpAPI instance\n",
      "    Query the Yelp Search API.\n",
      "    \n",
      "    documentation: https://www.yelp.com/developers/documentation/v3/business_search\n",
      "    \n",
      "    required parameters:\n",
      "        * one of either:\n",
      "            * location - text specifying a location to search for\n",
      "            * latitude and longitude\n",
      "\n"
     ]
    }
   ],
   "source": [
    "help(yelp_api.search_query)"
   ]
  },
  {
   "cell_type": "code",
   "execution_count": 28,
   "id": "6906d911",
   "metadata": {},
   "outputs": [
    {
     "name": "stdout",
     "output_type": "stream",
     "text": [
      "<class 'dict'>\n"
     ]
    },
    {
     "data": {
      "text/plain": [
       "dict_keys(['businesses', 'total', 'region'])"
      ]
     },
     "execution_count": 28,
     "metadata": {},
     "output_type": "execute_result"
    }
   ],
   "source": [
    "# use our yelp_api variable's search_query method to perform our API call\n",
    "search_results = yelp_api.search_query(location='Baltimore, MD,21202',\n",
    "                                       term='Crab Cakes',\n",
    "                                      offset=20)\n",
    "print(type(search_results))\n",
    "search_results.keys()"
   ]
  },
  {
   "cell_type": "code",
   "execution_count": 29,
   "id": "6200cdfd",
   "metadata": {},
   "outputs": [
    {
     "data": {
      "text/plain": [
       "439"
      ]
     },
     "execution_count": 29,
     "metadata": {},
     "output_type": "execute_result"
    }
   ],
   "source": [
    "search_results['total']"
   ]
  },
  {
   "cell_type": "code",
   "execution_count": 30,
   "id": "39cb5b08",
   "metadata": {},
   "outputs": [
    {
     "data": {
      "text/html": [
       "<div>\n",
       "<style scoped>\n",
       "    .dataframe tbody tr th:only-of-type {\n",
       "        vertical-align: middle;\n",
       "    }\n",
       "\n",
       "    .dataframe tbody tr th {\n",
       "        vertical-align: top;\n",
       "    }\n",
       "\n",
       "    .dataframe thead th {\n",
       "        text-align: right;\n",
       "    }\n",
       "</style>\n",
       "<table border=\"1\" class=\"dataframe\">\n",
       "  <thead>\n",
       "    <tr style=\"text-align: right;\">\n",
       "      <th></th>\n",
       "      <th>id</th>\n",
       "      <th>alias</th>\n",
       "      <th>name</th>\n",
       "      <th>image_url</th>\n",
       "      <th>is_closed</th>\n",
       "      <th>url</th>\n",
       "      <th>review_count</th>\n",
       "      <th>categories</th>\n",
       "      <th>rating</th>\n",
       "      <th>coordinates</th>\n",
       "      <th>transactions</th>\n",
       "      <th>price</th>\n",
       "      <th>location</th>\n",
       "      <th>phone</th>\n",
       "      <th>display_phone</th>\n",
       "      <th>distance</th>\n",
       "    </tr>\n",
       "  </thead>\n",
       "  <tbody>\n",
       "    <tr>\n",
       "      <th>0</th>\n",
       "      <td>t0EA_fXewpQWfzWMrpNjIw</td>\n",
       "      <td>peters-pour-house-baltimore</td>\n",
       "      <td>Peter's Pour House</td>\n",
       "      <td>https://s3-media3.fl.yelpcdn.com/bphoto/A5kRmG...</td>\n",
       "      <td>False</td>\n",
       "      <td>https://www.yelp.com/biz/peters-pour-house-bal...</td>\n",
       "      <td>242</td>\n",
       "      <td>[{'alias': 'tradamerican', 'title': 'American ...</td>\n",
       "      <td>4.0</td>\n",
       "      <td>{'latitude': 39.28841, 'longitude': -76.61299}</td>\n",
       "      <td>[delivery, pickup]</td>\n",
       "      <td>$$</td>\n",
       "      <td>{'address1': '111 Mercer St', 'address2': None...</td>\n",
       "      <td>+14105395818</td>\n",
       "      <td>(410) 539-5818</td>\n",
       "      <td>978.567909</td>\n",
       "    </tr>\n",
       "    <tr>\n",
       "      <th>1</th>\n",
       "      <td>7lDhtcolamUZw6oP5V1ehw</td>\n",
       "      <td>flash-crabcake-baltimore</td>\n",
       "      <td>Flash Crabcake</td>\n",
       "      <td>https://s3-media3.fl.yelpcdn.com/bphoto/qtaVuk...</td>\n",
       "      <td>False</td>\n",
       "      <td>https://www.yelp.com/biz/flash-crabcake-baltim...</td>\n",
       "      <td>26</td>\n",
       "      <td>[{'alias': 'foodtrucks', 'title': 'Food Trucks...</td>\n",
       "      <td>4.5</td>\n",
       "      <td>{'latitude': 39.29578, 'longitude': -76.62233}</td>\n",
       "      <td>[]</td>\n",
       "      <td>$</td>\n",
       "      <td>{'address1': '', 'address2': '', 'address3': '...</td>\n",
       "      <td>+14103229143</td>\n",
       "      <td>(410) 322-9143</td>\n",
       "      <td>1152.184055</td>\n",
       "    </tr>\n",
       "  </tbody>\n",
       "</table>\n",
       "</div>"
      ],
      "text/plain": [
       "                       id                        alias                name  \\\n",
       "0  t0EA_fXewpQWfzWMrpNjIw  peters-pour-house-baltimore  Peter's Pour House   \n",
       "1  7lDhtcolamUZw6oP5V1ehw     flash-crabcake-baltimore      Flash Crabcake   \n",
       "\n",
       "                                           image_url  is_closed  \\\n",
       "0  https://s3-media3.fl.yelpcdn.com/bphoto/A5kRmG...      False   \n",
       "1  https://s3-media3.fl.yelpcdn.com/bphoto/qtaVuk...      False   \n",
       "\n",
       "                                                 url  review_count  \\\n",
       "0  https://www.yelp.com/biz/peters-pour-house-bal...           242   \n",
       "1  https://www.yelp.com/biz/flash-crabcake-baltim...            26   \n",
       "\n",
       "                                          categories  rating  \\\n",
       "0  [{'alias': 'tradamerican', 'title': 'American ...     4.0   \n",
       "1  [{'alias': 'foodtrucks', 'title': 'Food Trucks...     4.5   \n",
       "\n",
       "                                      coordinates        transactions price  \\\n",
       "0  {'latitude': 39.28841, 'longitude': -76.61299}  [delivery, pickup]    $$   \n",
       "1  {'latitude': 39.29578, 'longitude': -76.62233}                  []     $   \n",
       "\n",
       "                                            location         phone  \\\n",
       "0  {'address1': '111 Mercer St', 'address2': None...  +14105395818   \n",
       "1  {'address1': '', 'address2': '', 'address3': '...  +14103229143   \n",
       "\n",
       "    display_phone     distance  \n",
       "0  (410) 539-5818   978.567909  \n",
       "1  (410) 322-9143  1152.184055  "
      ]
     },
     "execution_count": 30,
     "metadata": {},
     "output_type": "execute_result"
    }
   ],
   "source": [
    "biz = pd.DataFrame(search_results['businesses'])\n",
    "biz.head(2) "
   ]
  },
  {
   "cell_type": "markdown",
   "id": "bc592b79",
   "metadata": {},
   "source": [
    "## Pagination and \"offset\""
   ]
  },
  {
   "cell_type": "code",
   "execution_count": 31,
   "id": "352bf6d6",
   "metadata": {},
   "outputs": [
    {
     "data": {
      "text/plain": [
       "439"
      ]
     },
     "execution_count": 31,
     "metadata": {},
     "output_type": "execute_result"
    }
   ],
   "source": [
    "## total number of matching businesses\n",
    "search_results['total']"
   ]
  },
  {
   "cell_type": "code",
   "execution_count": 32,
   "id": "2cd4ebb4",
   "metadata": {},
   "outputs": [
    {
     "data": {
      "text/plain": [
       "20"
      ]
     },
     "execution_count": 32,
     "metadata": {},
     "output_type": "execute_result"
    }
   ],
   "source": [
    "## how many businesses in our results\n",
    "len(search_results['businesses'])"
   ]
  },
  {
   "cell_type": "code",
   "execution_count": 33,
   "id": "99233efb",
   "metadata": {},
   "outputs": [
    {
     "data": {
      "text/html": [
       "<div>\n",
       "<style scoped>\n",
       "    .dataframe tbody tr th:only-of-type {\n",
       "        vertical-align: middle;\n",
       "    }\n",
       "\n",
       "    .dataframe tbody tr th {\n",
       "        vertical-align: top;\n",
       "    }\n",
       "\n",
       "    .dataframe thead th {\n",
       "        text-align: right;\n",
       "    }\n",
       "</style>\n",
       "<table border=\"1\" class=\"dataframe\">\n",
       "  <thead>\n",
       "    <tr style=\"text-align: right;\">\n",
       "      <th></th>\n",
       "      <th>id</th>\n",
       "      <th>alias</th>\n",
       "      <th>name</th>\n",
       "      <th>image_url</th>\n",
       "      <th>is_closed</th>\n",
       "      <th>url</th>\n",
       "      <th>review_count</th>\n",
       "      <th>categories</th>\n",
       "      <th>rating</th>\n",
       "      <th>coordinates</th>\n",
       "      <th>transactions</th>\n",
       "      <th>price</th>\n",
       "      <th>location</th>\n",
       "      <th>phone</th>\n",
       "      <th>display_phone</th>\n",
       "      <th>distance</th>\n",
       "    </tr>\n",
       "  </thead>\n",
       "  <tbody>\n",
       "    <tr>\n",
       "      <th>0</th>\n",
       "      <td>t0EA_fXewpQWfzWMrpNjIw</td>\n",
       "      <td>peters-pour-house-baltimore</td>\n",
       "      <td>Peter's Pour House</td>\n",
       "      <td>https://s3-media3.fl.yelpcdn.com/bphoto/A5kRmG...</td>\n",
       "      <td>False</td>\n",
       "      <td>https://www.yelp.com/biz/peters-pour-house-bal...</td>\n",
       "      <td>242</td>\n",
       "      <td>[{'alias': 'tradamerican', 'title': 'American ...</td>\n",
       "      <td>4.0</td>\n",
       "      <td>{'latitude': 39.28841, 'longitude': -76.61299}</td>\n",
       "      <td>[delivery, pickup]</td>\n",
       "      <td>$$</td>\n",
       "      <td>{'address1': '111 Mercer St', 'address2': None...</td>\n",
       "      <td>+14105395818</td>\n",
       "      <td>(410) 539-5818</td>\n",
       "      <td>978.567909</td>\n",
       "    </tr>\n",
       "    <tr>\n",
       "      <th>1</th>\n",
       "      <td>7lDhtcolamUZw6oP5V1ehw</td>\n",
       "      <td>flash-crabcake-baltimore</td>\n",
       "      <td>Flash Crabcake</td>\n",
       "      <td>https://s3-media3.fl.yelpcdn.com/bphoto/qtaVuk...</td>\n",
       "      <td>False</td>\n",
       "      <td>https://www.yelp.com/biz/flash-crabcake-baltim...</td>\n",
       "      <td>26</td>\n",
       "      <td>[{'alias': 'foodtrucks', 'title': 'Food Trucks...</td>\n",
       "      <td>4.5</td>\n",
       "      <td>{'latitude': 39.29578, 'longitude': -76.62233}</td>\n",
       "      <td>[]</td>\n",
       "      <td>$</td>\n",
       "      <td>{'address1': '', 'address2': '', 'address3': '...</td>\n",
       "      <td>+14103229143</td>\n",
       "      <td>(410) 322-9143</td>\n",
       "      <td>1152.184055</td>\n",
       "    </tr>\n",
       "  </tbody>\n",
       "</table>\n",
       "</div>"
      ],
      "text/plain": [
       "                       id                        alias                name  \\\n",
       "0  t0EA_fXewpQWfzWMrpNjIw  peters-pour-house-baltimore  Peter's Pour House   \n",
       "1  7lDhtcolamUZw6oP5V1ehw     flash-crabcake-baltimore      Flash Crabcake   \n",
       "\n",
       "                                           image_url  is_closed  \\\n",
       "0  https://s3-media3.fl.yelpcdn.com/bphoto/A5kRmG...      False   \n",
       "1  https://s3-media3.fl.yelpcdn.com/bphoto/qtaVuk...      False   \n",
       "\n",
       "                                                 url  review_count  \\\n",
       "0  https://www.yelp.com/biz/peters-pour-house-bal...           242   \n",
       "1  https://www.yelp.com/biz/flash-crabcake-baltim...            26   \n",
       "\n",
       "                                          categories  rating  \\\n",
       "0  [{'alias': 'tradamerican', 'title': 'American ...     4.0   \n",
       "1  [{'alias': 'foodtrucks', 'title': 'Food Trucks...     4.5   \n",
       "\n",
       "                                      coordinates        transactions price  \\\n",
       "0  {'latitude': 39.28841, 'longitude': -76.61299}  [delivery, pickup]    $$   \n",
       "1  {'latitude': 39.29578, 'longitude': -76.62233}                  []     $   \n",
       "\n",
       "                                            location         phone  \\\n",
       "0  {'address1': '111 Mercer St', 'address2': None...  +14105395818   \n",
       "1  {'address1': '', 'address2': '', 'address3': '...  +14103229143   \n",
       "\n",
       "    display_phone     distance  \n",
       "0  (410) 539-5818   978.567909  \n",
       "1  (410) 322-9143  1152.184055  "
      ]
     },
     "execution_count": 33,
     "metadata": {},
     "output_type": "execute_result"
    }
   ],
   "source": [
    "biz20 = pd.DataFrame(search_results['businesses'])\n",
    "biz20.head(2)"
   ]
  },
  {
   "cell_type": "code",
   "execution_count": 34,
   "id": "a41628bb",
   "metadata": {},
   "outputs": [
    {
     "data": {
      "text/html": [
       "<div>\n",
       "<style scoped>\n",
       "    .dataframe tbody tr th:only-of-type {\n",
       "        vertical-align: middle;\n",
       "    }\n",
       "\n",
       "    .dataframe tbody tr th {\n",
       "        vertical-align: top;\n",
       "    }\n",
       "\n",
       "    .dataframe thead th {\n",
       "        text-align: right;\n",
       "    }\n",
       "</style>\n",
       "<table border=\"1\" class=\"dataframe\">\n",
       "  <thead>\n",
       "    <tr style=\"text-align: right;\">\n",
       "      <th></th>\n",
       "      <th>id</th>\n",
       "      <th>alias</th>\n",
       "      <th>name</th>\n",
       "      <th>image_url</th>\n",
       "      <th>is_closed</th>\n",
       "      <th>url</th>\n",
       "      <th>review_count</th>\n",
       "      <th>categories</th>\n",
       "      <th>rating</th>\n",
       "      <th>coordinates</th>\n",
       "      <th>transactions</th>\n",
       "      <th>price</th>\n",
       "      <th>location</th>\n",
       "      <th>phone</th>\n",
       "      <th>display_phone</th>\n",
       "      <th>distance</th>\n",
       "    </tr>\n",
       "  </thead>\n",
       "  <tbody>\n",
       "    <tr>\n",
       "      <th>0</th>\n",
       "      <td>t0EA_fXewpQWfzWMrpNjIw</td>\n",
       "      <td>peters-pour-house-baltimore</td>\n",
       "      <td>Peter's Pour House</td>\n",
       "      <td>https://s3-media3.fl.yelpcdn.com/bphoto/A5kRmG...</td>\n",
       "      <td>False</td>\n",
       "      <td>https://www.yelp.com/biz/peters-pour-house-bal...</td>\n",
       "      <td>242</td>\n",
       "      <td>[{'alias': 'tradamerican', 'title': 'American ...</td>\n",
       "      <td>4.0</td>\n",
       "      <td>{'latitude': 39.28841, 'longitude': -76.61299}</td>\n",
       "      <td>[delivery, pickup]</td>\n",
       "      <td>$$</td>\n",
       "      <td>{'address1': '111 Mercer St', 'address2': None...</td>\n",
       "      <td>+14105395818</td>\n",
       "      <td>(410) 539-5818</td>\n",
       "      <td>978.567909</td>\n",
       "    </tr>\n",
       "    <tr>\n",
       "      <th>1</th>\n",
       "      <td>7lDhtcolamUZw6oP5V1ehw</td>\n",
       "      <td>flash-crabcake-baltimore</td>\n",
       "      <td>Flash Crabcake</td>\n",
       "      <td>https://s3-media3.fl.yelpcdn.com/bphoto/qtaVuk...</td>\n",
       "      <td>False</td>\n",
       "      <td>https://www.yelp.com/biz/flash-crabcake-baltim...</td>\n",
       "      <td>26</td>\n",
       "      <td>[{'alias': 'foodtrucks', 'title': 'Food Trucks...</td>\n",
       "      <td>4.5</td>\n",
       "      <td>{'latitude': 39.29578, 'longitude': -76.62233}</td>\n",
       "      <td>[]</td>\n",
       "      <td>$</td>\n",
       "      <td>{'address1': '', 'address2': '', 'address3': '...</td>\n",
       "      <td>+14103229143</td>\n",
       "      <td>(410) 322-9143</td>\n",
       "      <td>1152.184055</td>\n",
       "    </tr>\n",
       "    <tr>\n",
       "      <th>2</th>\n",
       "      <td>8-cBsSXmLaGK6qCD0tmcZg</td>\n",
       "      <td>the-food-market-baltimore</td>\n",
       "      <td>The Food Market</td>\n",
       "      <td>https://s3-media3.fl.yelpcdn.com/bphoto/OJ3MPA...</td>\n",
       "      <td>False</td>\n",
       "      <td>https://www.yelp.com/biz/the-food-market-balti...</td>\n",
       "      <td>1218</td>\n",
       "      <td>[{'alias': 'newamerican', 'title': 'American (...</td>\n",
       "      <td>4.5</td>\n",
       "      <td>{'latitude': 39.3310122069348, 'longitude': -7...</td>\n",
       "      <td>[delivery]</td>\n",
       "      <td>$$</td>\n",
       "      <td>{'address1': '1017 W 36th St', 'address2': '',...</td>\n",
       "      <td>+14103660606</td>\n",
       "      <td>(410) 366-0606</td>\n",
       "      <td>4452.869752</td>\n",
       "    </tr>\n",
       "  </tbody>\n",
       "</table>\n",
       "</div>"
      ],
      "text/plain": [
       "                       id                        alias                name  \\\n",
       "0  t0EA_fXewpQWfzWMrpNjIw  peters-pour-house-baltimore  Peter's Pour House   \n",
       "1  7lDhtcolamUZw6oP5V1ehw     flash-crabcake-baltimore      Flash Crabcake   \n",
       "2  8-cBsSXmLaGK6qCD0tmcZg    the-food-market-baltimore     The Food Market   \n",
       "\n",
       "                                           image_url  is_closed  \\\n",
       "0  https://s3-media3.fl.yelpcdn.com/bphoto/A5kRmG...      False   \n",
       "1  https://s3-media3.fl.yelpcdn.com/bphoto/qtaVuk...      False   \n",
       "2  https://s3-media3.fl.yelpcdn.com/bphoto/OJ3MPA...      False   \n",
       "\n",
       "                                                 url  review_count  \\\n",
       "0  https://www.yelp.com/biz/peters-pour-house-bal...           242   \n",
       "1  https://www.yelp.com/biz/flash-crabcake-baltim...            26   \n",
       "2  https://www.yelp.com/biz/the-food-market-balti...          1218   \n",
       "\n",
       "                                          categories  rating  \\\n",
       "0  [{'alias': 'tradamerican', 'title': 'American ...     4.0   \n",
       "1  [{'alias': 'foodtrucks', 'title': 'Food Trucks...     4.5   \n",
       "2  [{'alias': 'newamerican', 'title': 'American (...     4.5   \n",
       "\n",
       "                                         coordinates        transactions  \\\n",
       "0     {'latitude': 39.28841, 'longitude': -76.61299}  [delivery, pickup]   \n",
       "1     {'latitude': 39.29578, 'longitude': -76.62233}                  []   \n",
       "2  {'latitude': 39.3310122069348, 'longitude': -7...          [delivery]   \n",
       "\n",
       "  price                                           location         phone  \\\n",
       "0    $$  {'address1': '111 Mercer St', 'address2': None...  +14105395818   \n",
       "1     $  {'address1': '', 'address2': '', 'address3': '...  +14103229143   \n",
       "2    $$  {'address1': '1017 W 36th St', 'address2': '',...  +14103660606   \n",
       "\n",
       "    display_phone     distance  \n",
       "0  (410) 539-5818   978.567909  \n",
       "1  (410) 322-9143  1152.184055  \n",
       "2  (410) 366-0606  4452.869752  "
      ]
     },
     "metadata": {},
     "output_type": "display_data"
    },
    {
     "data": {
      "text/html": [
       "<div>\n",
       "<style scoped>\n",
       "    .dataframe tbody tr th:only-of-type {\n",
       "        vertical-align: middle;\n",
       "    }\n",
       "\n",
       "    .dataframe tbody tr th {\n",
       "        vertical-align: top;\n",
       "    }\n",
       "\n",
       "    .dataframe thead th {\n",
       "        text-align: right;\n",
       "    }\n",
       "</style>\n",
       "<table border=\"1\" class=\"dataframe\">\n",
       "  <thead>\n",
       "    <tr style=\"text-align: right;\">\n",
       "      <th></th>\n",
       "      <th>id</th>\n",
       "      <th>alias</th>\n",
       "      <th>name</th>\n",
       "      <th>image_url</th>\n",
       "      <th>is_closed</th>\n",
       "      <th>url</th>\n",
       "      <th>review_count</th>\n",
       "      <th>categories</th>\n",
       "      <th>rating</th>\n",
       "      <th>coordinates</th>\n",
       "      <th>transactions</th>\n",
       "      <th>price</th>\n",
       "      <th>location</th>\n",
       "      <th>phone</th>\n",
       "      <th>display_phone</th>\n",
       "      <th>distance</th>\n",
       "    </tr>\n",
       "  </thead>\n",
       "  <tbody>\n",
       "    <tr>\n",
       "      <th>37</th>\n",
       "      <td>3RtD9VadLIF_mYkgnFwIew</td>\n",
       "      <td>charleston-baltimore</td>\n",
       "      <td>Charleston</td>\n",
       "      <td>https://s3-media4.fl.yelpcdn.com/bphoto/8Ar4xr...</td>\n",
       "      <td>False</td>\n",
       "      <td>https://www.yelp.com/biz/charleston-baltimore?...</td>\n",
       "      <td>591</td>\n",
       "      <td>[{'alias': 'newamerican', 'title': 'American (...</td>\n",
       "      <td>4.5</td>\n",
       "      <td>{'latitude': 39.282701, 'longitude': -76.599402}</td>\n",
       "      <td>[]</td>\n",
       "      <td>$$$$</td>\n",
       "      <td>{'address1': '1000 Lancaster St', 'address2': ...</td>\n",
       "      <td>+14103327373</td>\n",
       "      <td>(410) 332-7373</td>\n",
       "      <td>1657.232693</td>\n",
       "    </tr>\n",
       "    <tr>\n",
       "      <th>38</th>\n",
       "      <td>pFjt5Z32Ek1Cu3h9c33ZaA</td>\n",
       "      <td>sotto-sopra-baltimore</td>\n",
       "      <td>Sotto Sopra</td>\n",
       "      <td>https://s3-media1.fl.yelpcdn.com/bphoto/bUVEUB...</td>\n",
       "      <td>False</td>\n",
       "      <td>https://www.yelp.com/biz/sotto-sopra-baltimore...</td>\n",
       "      <td>458</td>\n",
       "      <td>[{'alias': 'italian', 'title': 'Italian'}, {'a...</td>\n",
       "      <td>4.0</td>\n",
       "      <td>{'latitude': 39.29437, 'longitude': -76.61513}</td>\n",
       "      <td>[delivery, pickup]</td>\n",
       "      <td>$$$</td>\n",
       "      <td>{'address1': '405 N Charles St', 'address2': '...</td>\n",
       "      <td>+14106250534</td>\n",
       "      <td>(410) 625-0534</td>\n",
       "      <td>672.591101</td>\n",
       "    </tr>\n",
       "    <tr>\n",
       "      <th>39</th>\n",
       "      <td>x0rZunJEE9AQtXySoVwL1Q</td>\n",
       "      <td>gertrudes-baltimore</td>\n",
       "      <td>Gertrude's</td>\n",
       "      <td>https://s3-media1.fl.yelpcdn.com/bphoto/P8BopR...</td>\n",
       "      <td>False</td>\n",
       "      <td>https://www.yelp.com/biz/gertrudes-baltimore?a...</td>\n",
       "      <td>423</td>\n",
       "      <td>[{'alias': 'newamerican', 'title': 'American (...</td>\n",
       "      <td>4.0</td>\n",
       "      <td>{'latitude': 39.3262187433177, 'longitude': -7...</td>\n",
       "      <td>[delivery]</td>\n",
       "      <td>$$</td>\n",
       "      <td>{'address1': '10 Art Museum Dr', 'address2': '...</td>\n",
       "      <td>+14108893399</td>\n",
       "      <td>(410) 889-3399</td>\n",
       "      <td>3482.706831</td>\n",
       "    </tr>\n",
       "  </tbody>\n",
       "</table>\n",
       "</div>"
      ],
      "text/plain": [
       "                        id                  alias         name  \\\n",
       "37  3RtD9VadLIF_mYkgnFwIew   charleston-baltimore   Charleston   \n",
       "38  pFjt5Z32Ek1Cu3h9c33ZaA  sotto-sopra-baltimore  Sotto Sopra   \n",
       "39  x0rZunJEE9AQtXySoVwL1Q    gertrudes-baltimore   Gertrude's   \n",
       "\n",
       "                                            image_url  is_closed  \\\n",
       "37  https://s3-media4.fl.yelpcdn.com/bphoto/8Ar4xr...      False   \n",
       "38  https://s3-media1.fl.yelpcdn.com/bphoto/bUVEUB...      False   \n",
       "39  https://s3-media1.fl.yelpcdn.com/bphoto/P8BopR...      False   \n",
       "\n",
       "                                                  url  review_count  \\\n",
       "37  https://www.yelp.com/biz/charleston-baltimore?...           591   \n",
       "38  https://www.yelp.com/biz/sotto-sopra-baltimore...           458   \n",
       "39  https://www.yelp.com/biz/gertrudes-baltimore?a...           423   \n",
       "\n",
       "                                           categories  rating  \\\n",
       "37  [{'alias': 'newamerican', 'title': 'American (...     4.5   \n",
       "38  [{'alias': 'italian', 'title': 'Italian'}, {'a...     4.0   \n",
       "39  [{'alias': 'newamerican', 'title': 'American (...     4.0   \n",
       "\n",
       "                                          coordinates        transactions  \\\n",
       "37   {'latitude': 39.282701, 'longitude': -76.599402}                  []   \n",
       "38     {'latitude': 39.29437, 'longitude': -76.61513}  [delivery, pickup]   \n",
       "39  {'latitude': 39.3262187433177, 'longitude': -7...          [delivery]   \n",
       "\n",
       "   price                                           location         phone  \\\n",
       "37  $$$$  {'address1': '1000 Lancaster St', 'address2': ...  +14103327373   \n",
       "38   $$$  {'address1': '405 N Charles St', 'address2': '...  +14106250534   \n",
       "39    $$  {'address1': '10 Art Museum Dr', 'address2': '...  +14108893399   \n",
       "\n",
       "     display_phone     distance  \n",
       "37  (410) 332-7373  1657.232693  \n",
       "38  (410) 625-0534   672.591101  \n",
       "39  (410) 889-3399  3482.706831  "
      ]
     },
     "metadata": {},
     "output_type": "display_data"
    }
   ],
   "source": [
    "## concatenate the previous results and new results. \n",
    "businesses = pd.concat([biz, biz20],\n",
    "                      ignore_index=True)\n",
    "display(businesses.head(3), businesses.tail(3))"
   ]
  },
  {
   "cell_type": "code",
   "execution_count": null,
   "id": "dab62256",
   "metadata": {},
   "outputs": [],
   "source": []
  }
 ],
 "metadata": {
  "kernelspec": {
   "display_name": "Python (dojo-env)",
   "language": "python",
   "name": "dojo-env"
  },
  "language_info": {
   "codemirror_mode": {
    "name": "ipython",
    "version": 3
   },
   "file_extension": ".py",
   "mimetype": "text/x-python",
   "name": "python",
   "nbconvert_exporter": "python",
   "pygments_lexer": "ipython3",
   "version": "3.8.13"
  },
  "toc": {
   "base_numbering": 1,
   "nav_menu": {},
   "number_sections": false,
   "sideBar": true,
   "skip_h1_title": false,
   "title_cell": "Table of Contents",
   "title_sidebar": "Contents",
   "toc_cell": false,
   "toc_position": {},
   "toc_section_display": true,
   "toc_window_display": true
  }
 },
 "nbformat": 4,
 "nbformat_minor": 5
}
