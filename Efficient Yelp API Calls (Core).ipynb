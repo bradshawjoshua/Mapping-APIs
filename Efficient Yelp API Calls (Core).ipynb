{
 "cells": [
  {
   "cell_type": "code",
   "execution_count": 1,
   "id": "b28d4544",
   "metadata": {},
   "outputs": [],
   "source": [
    "# Standard Imports\n",
    "import numpy as np\n",
    "import pandas as pd\n",
    "import matplotlib.pyplot as plt\n",
    "import seaborn as sns\n",
    "# Additional Imports\n",
    "import os, json, math, time\n",
    "from yelpapi import YelpAPI\n",
    "from tqdm.notebook import tqdm_notebook"
   ]
  },
  {
   "cell_type": "code",
   "execution_count": 2,
   "id": "b5279af6",
   "metadata": {},
   "outputs": [
    {
     "name": "stdout",
     "output_type": "stream",
     "text": [
      "Defaulting to user installation because normal site-packages is not writeable\n",
      "Requirement already satisfied: tqdm in c:\\users\\joshu\\appdata\\roaming\\python\\python310\\site-packages (4.64.0)\n",
      "Requirement already satisfied: colorama in c:\\users\\joshu\\appdata\\roaming\\python\\python310\\site-packages (from tqdm) (0.4.5)\n"
     ]
    },
    {
     "name": "stderr",
     "output_type": "stream",
     "text": [
      "WARNING: You are using pip version 22.0.4; however, version 22.2.2 is available.\n",
      "You should consider upgrading via the 'C:\\Program Files\\Python310\\python.exe -m pip install --upgrade pip' command.\n"
     ]
    }
   ],
   "source": [
    "# Install tmdbsimple (only need to run once)\n",
    "!pip install tqdm"
   ]
  },
  {
   "cell_type": "code",
   "execution_count": 3,
   "id": "0bf52444",
   "metadata": {},
   "outputs": [
    {
     "data": {
      "text/plain": [
       "<yelpapi.yelpapi.YelpAPI at 0x22ecc929eb0>"
      ]
     },
     "execution_count": 3,
     "metadata": {},
     "output_type": "execute_result"
    }
   ],
   "source": [
    "# Load API Credentials\n",
    "with open('C:/Users/joshu/.secret/yelp_api.json') as f: \n",
    "    login = json.load(f)\n",
    "# Instantiate YelpAPI Variable\n",
    "yelp_api = YelpAPI(login['api-key'], timeout_s=5.0)\n",
    "yelp_api"
   ]
  },
  {
   "cell_type": "code",
   "execution_count": 4,
   "id": "4b9af352",
   "metadata": {},
   "outputs": [],
   "source": [
    "# set API call \n",
    "LOCATION = 'San Diego, CA, 92154'\n",
    "TERM = 'Ramen'"
   ]
  },
  {
   "cell_type": "code",
   "execution_count": 5,
   "id": "97b7c132",
   "metadata": {},
   "outputs": [
    {
     "data": {
      "text/plain": [
       "'Data/results_in_progress_ramen.json'"
      ]
     },
     "execution_count": 5,
     "metadata": {},
     "output_type": "execute_result"
    }
   ],
   "source": [
    "# Specifying JSON_FILE filename (can include a folder)\n",
    "# include the search terms in the filename\n",
    "JSON_FILE = f\"Data/results_in_progress_ramen.json\"\n",
    "JSON_FILE"
   ]
  },
  {
   "cell_type": "code",
   "execution_count": 6,
   "id": "e780ea47",
   "metadata": {},
   "outputs": [
    {
     "name": "stdout",
     "output_type": "stream",
     "text": [
      "[i] Data/results_in_progress_ramen.json not found. Saving empty list to file.\n"
     ]
    }
   ],
   "source": [
    "## Check if JSON_FILE exists\n",
    "file_exists = os.path.isfile(JSON_FILE)\n",
    "## If it does not exist: \n",
    "if file_exists == False:\n",
    "    \n",
    "    ## CREATE ANY NEEDED FOLDERS\n",
    "    # Get the Folder Name only\n",
    "    folder = os.path.dirname(JSON_FILE)\n",
    "    ## If JSON_FILE included a folder:\n",
    "    if len(folder)>0:\n",
    "        # create the folder\n",
    "        os.makedirs(folder,exist_ok=True)\n",
    "        \n",
    "        \n",
    "    ## INFORM USER AND SAVE EMPTY LIST\n",
    "    print(f\"[i] {JSON_FILE} not found. Saving empty list to file.\")\n",
    "    \n",
    "    \n",
    "    ## save the first page of results\n",
    "    with open(JSON_FILE,'w') as f:\n",
    "        json.dump([],f)  \n",
    "## If it exists, inform user\n",
    "else:\n",
    "    print(f\"[i] {JSON_FILE} already exists.\")"
   ]
  },
  {
   "cell_type": "code",
   "execution_count": 7,
   "id": "e64df330",
   "metadata": {},
   "outputs": [
    {
     "name": "stdout",
     "output_type": "stream",
     "text": [
      "- 0 previous results found.\n"
     ]
    }
   ],
   "source": [
    "## Load previous results and use len of results for offset\n",
    "with open(JSON_FILE,'r') as f:\n",
    "    previous_results = json.load(f)\n",
    "    \n",
    "## set offset based on previous results\n",
    "n_results = len(previous_results)\n",
    "print(f'- {n_results} previous results found.')"
   ]
  },
  {
   "cell_type": "code",
   "execution_count": 8,
   "id": "520155c3",
   "metadata": {},
   "outputs": [
    {
     "data": {
      "text/plain": [
       "dict_keys(['businesses', 'total', 'region'])"
      ]
     },
     "execution_count": 8,
     "metadata": {},
     "output_type": "execute_result"
    }
   ],
   "source": [
    "# use our yelp_api variable's search_query method to perform our API call\n",
    "results = yelp_api.search_query(location=LOCATION,\n",
    "                                term=TERM,\n",
    "                               offset=n_results)\n",
    "results.keys()"
   ]
  },
  {
   "cell_type": "code",
   "execution_count": 9,
   "id": "1db89fd6",
   "metadata": {},
   "outputs": [
    {
     "data": {
      "text/plain": [
       "538"
      ]
     },
     "execution_count": 9,
     "metadata": {},
     "output_type": "execute_result"
    }
   ],
   "source": [
    "## total results\n",
    "total_results = results['total']\n",
    "total_results"
   ]
  },
  {
   "cell_type": "code",
   "execution_count": 10,
   "id": "2f52cc15",
   "metadata": {},
   "outputs": [
    {
     "data": {
      "text/plain": [
       "20"
      ]
     },
     "execution_count": 10,
     "metadata": {},
     "output_type": "execute_result"
    }
   ],
   "source": [
    "## 20 per page\n",
    "results_per_page = len(results['businesses'])\n",
    "results_per_page"
   ]
  },
  {
   "cell_type": "code",
   "execution_count": 11,
   "id": "34287d27",
   "metadata": {},
   "outputs": [
    {
     "data": {
      "text/plain": [
       "27"
      ]
     },
     "execution_count": 11,
     "metadata": {},
     "output_type": "execute_result"
    }
   ],
   "source": [
    "# Import additional packages for controlling our loop\n",
    "import time, math\n",
    "# round up for the total number of pages of results\n",
    "n_pages = math.ceil((results['total']-n_results)/ results_per_page)\n",
    "n_pages"
   ]
  },
  {
   "cell_type": "code",
   "execution_count": 12,
   "id": "b3d258e6",
   "metadata": {},
   "outputs": [],
   "source": [
    "# join new results with old list with extend and save to file\n",
    "previous_results.extend(results['businesses'])  \n",
    "with open(JSON_FILE,'w') as f:\n",
    "     json.dump(previous_results,f)"
   ]
  },
  {
   "cell_type": "code",
   "execution_count": 13,
   "id": "c3a4f0cf",
   "metadata": {},
   "outputs": [
    {
     "data": {
      "application/vnd.jupyter.widget-view+json": {
       "model_id": "6aa74a291cd34c3e86f1c8f5c4128f4a",
       "version_major": 2,
       "version_minor": 0
      },
      "text/plain": [
       "  0%|          | 0/27 [00:00<?, ?it/s]"
      ]
     },
     "metadata": {},
     "output_type": "display_data"
    }
   ],
   "source": [
    "from tqdm.notebook import tqdm_notebook\n",
    "import time\n",
    "for i in tqdm_notebook(range(n_pages)):\n",
    "    # adds 200 ms pause\n",
    "    time.sleep(.2) "
   ]
  },
  {
   "cell_type": "code",
   "execution_count": 14,
   "id": "2397737c",
   "metadata": {},
   "outputs": [
    {
     "data": {
      "application/vnd.jupyter.widget-view+json": {
       "model_id": "7d00529723874b9488d3cd27557dcc0a",
       "version_major": 2,
       "version_minor": 0
      },
      "text/plain": [
       "  0%|          | 0/27 [00:00<?, ?it/s]"
      ]
     },
     "metadata": {},
     "output_type": "display_data"
    }
   ],
   "source": [
    "for i in tqdm_notebook( range(1,n_pages+1)):\n",
    "    time.sleep(.2)\n",
    "    ## Read in results in progress file and check the length\n",
    "    with open(JSON_FILE, 'r') as f:\n",
    "        previous_results = json.load(f)\n",
    "    ## save number of results for to use as offset\n",
    "    n_results = len(previous_results)\n",
    "    ## use n_results as the OFFSET \n",
    "    results = yelp_api.search_query(location=LOCATION,\n",
    "                                    term=TERM, \n",
    "                                    offset=n_results)\n",
    "    \n",
    "    ## append new results and save to file\n",
    "    previous_results.extend(results['businesses'])\n",
    "    \n",
    "#     display(previous_results)\n",
    "    with open(JSON_FILE,'w') as f:\n",
    "        json.dump(previous_results,f)"
   ]
  },
  {
   "cell_type": "code",
   "execution_count": 15,
   "id": "2e224134",
   "metadata": {},
   "outputs": [
    {
     "data": {
      "text/html": [
       "<div>\n",
       "<style scoped>\n",
       "    .dataframe tbody tr th:only-of-type {\n",
       "        vertical-align: middle;\n",
       "    }\n",
       "\n",
       "    .dataframe tbody tr th {\n",
       "        vertical-align: top;\n",
       "    }\n",
       "\n",
       "    .dataframe thead th {\n",
       "        text-align: right;\n",
       "    }\n",
       "</style>\n",
       "<table border=\"1\" class=\"dataframe\">\n",
       "  <thead>\n",
       "    <tr style=\"text-align: right;\">\n",
       "      <th></th>\n",
       "      <th>id</th>\n",
       "      <th>alias</th>\n",
       "      <th>name</th>\n",
       "      <th>image_url</th>\n",
       "      <th>is_closed</th>\n",
       "      <th>url</th>\n",
       "      <th>review_count</th>\n",
       "      <th>categories</th>\n",
       "      <th>rating</th>\n",
       "      <th>coordinates</th>\n",
       "      <th>transactions</th>\n",
       "      <th>price</th>\n",
       "      <th>location</th>\n",
       "      <th>phone</th>\n",
       "      <th>display_phone</th>\n",
       "      <th>distance</th>\n",
       "    </tr>\n",
       "  </thead>\n",
       "  <tbody>\n",
       "    <tr>\n",
       "      <th>0</th>\n",
       "      <td>ninJL2knw22u47LFYsYFOw</td>\n",
       "      <td>okama-chula-vista</td>\n",
       "      <td>Okama</td>\n",
       "      <td>https://s3-media2.fl.yelpcdn.com/bphoto/FFHSS3...</td>\n",
       "      <td>False</td>\n",
       "      <td>https://www.yelp.com/biz/okama-chula-vista?adj...</td>\n",
       "      <td>136</td>\n",
       "      <td>[{'alias': 'sushi', 'title': 'Sushi Bars'}, {'...</td>\n",
       "      <td>4.5</td>\n",
       "      <td>{'latitude': 32.62000720019226, 'longitude': -...</td>\n",
       "      <td>[]</td>\n",
       "      <td>$$</td>\n",
       "      <td>{'address1': '1620 Millenia Ave', 'address2': ...</td>\n",
       "      <td>+16199476988</td>\n",
       "      <td>(619) 947-6988</td>\n",
       "      <td>6389.328211</td>\n",
       "    </tr>\n",
       "    <tr>\n",
       "      <th>1</th>\n",
       "      <td>jchAs_r0UQlrvw43mm5EcA</td>\n",
       "      <td>izakaya-naruto-chula-vista</td>\n",
       "      <td>Izakaya Naruto</td>\n",
       "      <td>https://s3-media3.fl.yelpcdn.com/bphoto/CLO81W...</td>\n",
       "      <td>False</td>\n",
       "      <td>https://www.yelp.com/biz/izakaya-naruto-chula-...</td>\n",
       "      <td>889</td>\n",
       "      <td>[{'alias': 'sushi', 'title': 'Sushi Bars'}, {'...</td>\n",
       "      <td>4.5</td>\n",
       "      <td>{'latitude': 32.6094521359027, 'longitude': -1...</td>\n",
       "      <td>[pickup]</td>\n",
       "      <td>$$</td>\n",
       "      <td>{'address1': '1216 3rd Ave', 'address2': None,...</td>\n",
       "      <td>+16198822880</td>\n",
       "      <td>(619) 882-2880</td>\n",
       "      <td>8568.806263</td>\n",
       "    </tr>\n",
       "    <tr>\n",
       "      <th>2</th>\n",
       "      <td>X3DgkjWqQWDezoSIVvgArw</td>\n",
       "      <td>menya-ultra-san-diego-san-diego</td>\n",
       "      <td>Menya Ultra - San Diego</td>\n",
       "      <td>https://s3-media2.fl.yelpcdn.com/bphoto/eMolMO...</td>\n",
       "      <td>False</td>\n",
       "      <td>https://www.yelp.com/biz/menya-ultra-san-diego...</td>\n",
       "      <td>1898</td>\n",
       "      <td>[{'alias': 'ramen', 'title': 'Ramen'}, {'alias...</td>\n",
       "      <td>4.5</td>\n",
       "      <td>{'latitude': 32.83231, 'longitude': -117.14709}</td>\n",
       "      <td>[delivery, pickup]</td>\n",
       "      <td>$$</td>\n",
       "      <td>{'address1': '8199 Clairemont Mesa Blvd', 'add...</td>\n",
       "      <td>+18585712010</td>\n",
       "      <td>(858) 571-2010</td>\n",
       "      <td>32981.167095</td>\n",
       "    </tr>\n",
       "    <tr>\n",
       "      <th>3</th>\n",
       "      <td>uJbBxJnGhXkAXtLCmxrszg</td>\n",
       "      <td>menya-ultra-mira-mesa-san-diego</td>\n",
       "      <td>Menya Ultra - Mira Mesa</td>\n",
       "      <td>https://s3-media2.fl.yelpcdn.com/bphoto/zMTCp9...</td>\n",
       "      <td>False</td>\n",
       "      <td>https://www.yelp.com/biz/menya-ultra-mira-mesa...</td>\n",
       "      <td>934</td>\n",
       "      <td>[{'alias': 'ramen', 'title': 'Ramen'}, {'alias...</td>\n",
       "      <td>4.0</td>\n",
       "      <td>{'latitude': 32.9112446910774, 'longitude': -1...</td>\n",
       "      <td>[delivery, pickup]</td>\n",
       "      <td>$$</td>\n",
       "      <td>{'address1': '8141 Mira Mesa Blvd', 'address2'...</td>\n",
       "      <td>+18583972247</td>\n",
       "      <td>(858) 397-2247</td>\n",
       "      <td>41041.316122</td>\n",
       "    </tr>\n",
       "    <tr>\n",
       "      <th>4</th>\n",
       "      <td>WNwwWXy9n-BlD_yxWgugQg</td>\n",
       "      <td>yoshi-ramen-tijuana</td>\n",
       "      <td>Yoshi Ramen</td>\n",
       "      <td>https://s3-media1.fl.yelpcdn.com/bphoto/1Xpph_...</td>\n",
       "      <td>False</td>\n",
       "      <td>https://www.yelp.com/biz/yoshi-ramen-tijuana?a...</td>\n",
       "      <td>22</td>\n",
       "      <td>[{'alias': 'ramen', 'title': 'Ramen'}]</td>\n",
       "      <td>4.5</td>\n",
       "      <td>{'latitude': 32.533723, 'longitude': -117.036719}</td>\n",
       "      <td>[]</td>\n",
       "      <td>$$</td>\n",
       "      <td>{'address1': 'Av. Revolución 942', 'address2':...</td>\n",
       "      <td>+526642101886</td>\n",
       "      <td>+52 664 210 1886</td>\n",
       "      <td>5539.017023</td>\n",
       "    </tr>\n",
       "  </tbody>\n",
       "</table>\n",
       "</div>"
      ],
      "text/plain": [
       "                       id                            alias  \\\n",
       "0  ninJL2knw22u47LFYsYFOw                okama-chula-vista   \n",
       "1  jchAs_r0UQlrvw43mm5EcA       izakaya-naruto-chula-vista   \n",
       "2  X3DgkjWqQWDezoSIVvgArw  menya-ultra-san-diego-san-diego   \n",
       "3  uJbBxJnGhXkAXtLCmxrszg  menya-ultra-mira-mesa-san-diego   \n",
       "4  WNwwWXy9n-BlD_yxWgugQg              yoshi-ramen-tijuana   \n",
       "\n",
       "                      name                                          image_url  \\\n",
       "0                    Okama  https://s3-media2.fl.yelpcdn.com/bphoto/FFHSS3...   \n",
       "1           Izakaya Naruto  https://s3-media3.fl.yelpcdn.com/bphoto/CLO81W...   \n",
       "2  Menya Ultra - San Diego  https://s3-media2.fl.yelpcdn.com/bphoto/eMolMO...   \n",
       "3  Menya Ultra - Mira Mesa  https://s3-media2.fl.yelpcdn.com/bphoto/zMTCp9...   \n",
       "4              Yoshi Ramen  https://s3-media1.fl.yelpcdn.com/bphoto/1Xpph_...   \n",
       "\n",
       "   is_closed                                                url  review_count  \\\n",
       "0      False  https://www.yelp.com/biz/okama-chula-vista?adj...           136   \n",
       "1      False  https://www.yelp.com/biz/izakaya-naruto-chula-...           889   \n",
       "2      False  https://www.yelp.com/biz/menya-ultra-san-diego...          1898   \n",
       "3      False  https://www.yelp.com/biz/menya-ultra-mira-mesa...           934   \n",
       "4      False  https://www.yelp.com/biz/yoshi-ramen-tijuana?a...            22   \n",
       "\n",
       "                                          categories  rating  \\\n",
       "0  [{'alias': 'sushi', 'title': 'Sushi Bars'}, {'...     4.5   \n",
       "1  [{'alias': 'sushi', 'title': 'Sushi Bars'}, {'...     4.5   \n",
       "2  [{'alias': 'ramen', 'title': 'Ramen'}, {'alias...     4.5   \n",
       "3  [{'alias': 'ramen', 'title': 'Ramen'}, {'alias...     4.0   \n",
       "4             [{'alias': 'ramen', 'title': 'Ramen'}]     4.5   \n",
       "\n",
       "                                         coordinates        transactions  \\\n",
       "0  {'latitude': 32.62000720019226, 'longitude': -...                  []   \n",
       "1  {'latitude': 32.6094521359027, 'longitude': -1...            [pickup]   \n",
       "2    {'latitude': 32.83231, 'longitude': -117.14709}  [delivery, pickup]   \n",
       "3  {'latitude': 32.9112446910774, 'longitude': -1...  [delivery, pickup]   \n",
       "4  {'latitude': 32.533723, 'longitude': -117.036719}                  []   \n",
       "\n",
       "  price                                           location          phone  \\\n",
       "0    $$  {'address1': '1620 Millenia Ave', 'address2': ...   +16199476988   \n",
       "1    $$  {'address1': '1216 3rd Ave', 'address2': None,...   +16198822880   \n",
       "2    $$  {'address1': '8199 Clairemont Mesa Blvd', 'add...   +18585712010   \n",
       "3    $$  {'address1': '8141 Mira Mesa Blvd', 'address2'...   +18583972247   \n",
       "4    $$  {'address1': 'Av. Revolución 942', 'address2':...  +526642101886   \n",
       "\n",
       "      display_phone      distance  \n",
       "0    (619) 947-6988   6389.328211  \n",
       "1    (619) 882-2880   8568.806263  \n",
       "2    (858) 571-2010  32981.167095  \n",
       "3    (858) 397-2247  41041.316122  \n",
       "4  +52 664 210 1886   5539.017023  "
      ]
     },
     "metadata": {},
     "output_type": "display_data"
    },
    {
     "data": {
      "text/html": [
       "<div>\n",
       "<style scoped>\n",
       "    .dataframe tbody tr th:only-of-type {\n",
       "        vertical-align: middle;\n",
       "    }\n",
       "\n",
       "    .dataframe tbody tr th {\n",
       "        vertical-align: top;\n",
       "    }\n",
       "\n",
       "    .dataframe thead th {\n",
       "        text-align: right;\n",
       "    }\n",
       "</style>\n",
       "<table border=\"1\" class=\"dataframe\">\n",
       "  <thead>\n",
       "    <tr style=\"text-align: right;\">\n",
       "      <th></th>\n",
       "      <th>id</th>\n",
       "      <th>alias</th>\n",
       "      <th>name</th>\n",
       "      <th>image_url</th>\n",
       "      <th>is_closed</th>\n",
       "      <th>url</th>\n",
       "      <th>review_count</th>\n",
       "      <th>categories</th>\n",
       "      <th>rating</th>\n",
       "      <th>coordinates</th>\n",
       "      <th>transactions</th>\n",
       "      <th>price</th>\n",
       "      <th>location</th>\n",
       "      <th>phone</th>\n",
       "      <th>display_phone</th>\n",
       "      <th>distance</th>\n",
       "    </tr>\n",
       "  </thead>\n",
       "  <tbody>\n",
       "    <tr>\n",
       "      <th>533</th>\n",
       "      <td>cXcy4BuADVL5w8VfwS4k3Q</td>\n",
       "      <td>7-eleven-san-diego-30</td>\n",
       "      <td>7-Eleven</td>\n",
       "      <td>https://s3-media2.fl.yelpcdn.com/bphoto/TguW_o...</td>\n",
       "      <td>False</td>\n",
       "      <td>https://www.yelp.com/biz/7-eleven-san-diego-30...</td>\n",
       "      <td>26</td>\n",
       "      <td>[{'alias': 'convenience', 'title': 'Convenienc...</td>\n",
       "      <td>2.5</td>\n",
       "      <td>{'latitude': 32.7737573, 'longitude': -117.175...</td>\n",
       "      <td>[delivery, pickup]</td>\n",
       "      <td>$</td>\n",
       "      <td>{'address1': '6615 Linda Vista Rd', 'address2'...</td>\n",
       "      <td>+18582790994</td>\n",
       "      <td>(858) 279-0994</td>\n",
       "      <td>28732.785175</td>\n",
       "    </tr>\n",
       "    <tr>\n",
       "      <th>534</th>\n",
       "      <td>c-xPzvQdr-YJZ7zETMPhZQ</td>\n",
       "      <td>iceskimo-san-diego-4</td>\n",
       "      <td>Iceskimo</td>\n",
       "      <td>https://s3-media1.fl.yelpcdn.com/bphoto/MHvloN...</td>\n",
       "      <td>False</td>\n",
       "      <td>https://www.yelp.com/biz/iceskimo-san-diego-4?...</td>\n",
       "      <td>1033</td>\n",
       "      <td>[{'alias': 'icecream', 'title': 'Ice Cream &amp; F...</td>\n",
       "      <td>4.5</td>\n",
       "      <td>{'latitude': 32.8239, 'longitude': -117.15433}</td>\n",
       "      <td>[delivery]</td>\n",
       "      <td>$$</td>\n",
       "      <td>{'address1': '4609 Convoy St', 'address2': 'St...</td>\n",
       "      <td>+18582161111</td>\n",
       "      <td>(858) 216-1111</td>\n",
       "      <td>32432.822497</td>\n",
       "    </tr>\n",
       "    <tr>\n",
       "      <th>535</th>\n",
       "      <td>DLpuHffsjIEGHReRg7HoHg</td>\n",
       "      <td>7-eleven-san-diego-34</td>\n",
       "      <td>7-Eleven</td>\n",
       "      <td>https://s3-media1.fl.yelpcdn.com/bphoto/seyRmI...</td>\n",
       "      <td>False</td>\n",
       "      <td>https://www.yelp.com/biz/7-eleven-san-diego-34...</td>\n",
       "      <td>35</td>\n",
       "      <td>[{'alias': 'convenience', 'title': 'Convenienc...</td>\n",
       "      <td>3.5</td>\n",
       "      <td>{'latitude': 32.83094, 'longitude': -117.13158}</td>\n",
       "      <td>[delivery, pickup]</td>\n",
       "      <td>$</td>\n",
       "      <td>{'address1': '9187 Clairemont Mesa Blvd', 'add...</td>\n",
       "      <td>+18588746629</td>\n",
       "      <td>(858) 874-6629</td>\n",
       "      <td>32175.932517</td>\n",
       "    </tr>\n",
       "    <tr>\n",
       "      <th>536</th>\n",
       "      <td>ey_7Xz0sMV2H6SrJOdSm9Q</td>\n",
       "      <td>veggie-grill-san-diego-5</td>\n",
       "      <td>Veggie Grill</td>\n",
       "      <td>https://s3-media3.fl.yelpcdn.com/bphoto/KpFfsD...</td>\n",
       "      <td>False</td>\n",
       "      <td>https://www.yelp.com/biz/veggie-grill-san-dieg...</td>\n",
       "      <td>701</td>\n",
       "      <td>[{'alias': 'vegan', 'title': 'Vegan'}, {'alias...</td>\n",
       "      <td>4.0</td>\n",
       "      <td>{'latitude': 32.869839765251676, 'longitude': ...</td>\n",
       "      <td>[delivery, pickup]</td>\n",
       "      <td>$$</td>\n",
       "      <td>{'address1': '4353 La Jolla Village Dr', 'addr...</td>\n",
       "      <td>+18584580031</td>\n",
       "      <td>(858) 458-0031</td>\n",
       "      <td>39534.562850</td>\n",
       "    </tr>\n",
       "    <tr>\n",
       "      <th>537</th>\n",
       "      <td>aaY_sdMzhfC6W3x1siXNRQ</td>\n",
       "      <td>starbucks-san-diego-43</td>\n",
       "      <td>Starbucks</td>\n",
       "      <td>https://s3-media3.fl.yelpcdn.com/bphoto/8h7JIC...</td>\n",
       "      <td>False</td>\n",
       "      <td>https://www.yelp.com/biz/starbucks-san-diego-4...</td>\n",
       "      <td>200</td>\n",
       "      <td>[{'alias': 'coffee', 'title': 'Coffee &amp; Tea'}]</td>\n",
       "      <td>3.0</td>\n",
       "      <td>{'latitude': 32.830471, 'longitude': -117.153743}</td>\n",
       "      <td>[delivery]</td>\n",
       "      <td>$$</td>\n",
       "      <td>{'address1': '4898 Convoy St', 'address2': 'St...</td>\n",
       "      <td>+18585600337</td>\n",
       "      <td>(858) 560-0337</td>\n",
       "      <td>33040.486378</td>\n",
       "    </tr>\n",
       "  </tbody>\n",
       "</table>\n",
       "</div>"
      ],
      "text/plain": [
       "                         id                     alias          name  \\\n",
       "533  cXcy4BuADVL5w8VfwS4k3Q     7-eleven-san-diego-30      7-Eleven   \n",
       "534  c-xPzvQdr-YJZ7zETMPhZQ      iceskimo-san-diego-4      Iceskimo   \n",
       "535  DLpuHffsjIEGHReRg7HoHg     7-eleven-san-diego-34      7-Eleven   \n",
       "536  ey_7Xz0sMV2H6SrJOdSm9Q  veggie-grill-san-diego-5  Veggie Grill   \n",
       "537  aaY_sdMzhfC6W3x1siXNRQ    starbucks-san-diego-43     Starbucks   \n",
       "\n",
       "                                             image_url  is_closed  \\\n",
       "533  https://s3-media2.fl.yelpcdn.com/bphoto/TguW_o...      False   \n",
       "534  https://s3-media1.fl.yelpcdn.com/bphoto/MHvloN...      False   \n",
       "535  https://s3-media1.fl.yelpcdn.com/bphoto/seyRmI...      False   \n",
       "536  https://s3-media3.fl.yelpcdn.com/bphoto/KpFfsD...      False   \n",
       "537  https://s3-media3.fl.yelpcdn.com/bphoto/8h7JIC...      False   \n",
       "\n",
       "                                                   url  review_count  \\\n",
       "533  https://www.yelp.com/biz/7-eleven-san-diego-30...            26   \n",
       "534  https://www.yelp.com/biz/iceskimo-san-diego-4?...          1033   \n",
       "535  https://www.yelp.com/biz/7-eleven-san-diego-34...            35   \n",
       "536  https://www.yelp.com/biz/veggie-grill-san-dieg...           701   \n",
       "537  https://www.yelp.com/biz/starbucks-san-diego-4...           200   \n",
       "\n",
       "                                            categories  rating  \\\n",
       "533  [{'alias': 'convenience', 'title': 'Convenienc...     2.5   \n",
       "534  [{'alias': 'icecream', 'title': 'Ice Cream & F...     4.5   \n",
       "535  [{'alias': 'convenience', 'title': 'Convenienc...     3.5   \n",
       "536  [{'alias': 'vegan', 'title': 'Vegan'}, {'alias...     4.0   \n",
       "537     [{'alias': 'coffee', 'title': 'Coffee & Tea'}]     3.0   \n",
       "\n",
       "                                           coordinates        transactions  \\\n",
       "533  {'latitude': 32.7737573, 'longitude': -117.175...  [delivery, pickup]   \n",
       "534     {'latitude': 32.8239, 'longitude': -117.15433}          [delivery]   \n",
       "535    {'latitude': 32.83094, 'longitude': -117.13158}  [delivery, pickup]   \n",
       "536  {'latitude': 32.869839765251676, 'longitude': ...  [delivery, pickup]   \n",
       "537  {'latitude': 32.830471, 'longitude': -117.153743}          [delivery]   \n",
       "\n",
       "    price                                           location         phone  \\\n",
       "533     $  {'address1': '6615 Linda Vista Rd', 'address2'...  +18582790994   \n",
       "534    $$  {'address1': '4609 Convoy St', 'address2': 'St...  +18582161111   \n",
       "535     $  {'address1': '9187 Clairemont Mesa Blvd', 'add...  +18588746629   \n",
       "536    $$  {'address1': '4353 La Jolla Village Dr', 'addr...  +18584580031   \n",
       "537    $$  {'address1': '4898 Convoy St', 'address2': 'St...  +18585600337   \n",
       "\n",
       "      display_phone      distance  \n",
       "533  (858) 279-0994  28732.785175  \n",
       "534  (858) 216-1111  32432.822497  \n",
       "535  (858) 874-6629  32175.932517  \n",
       "536  (858) 458-0031  39534.562850  \n",
       "537  (858) 560-0337  33040.486378  "
      ]
     },
     "metadata": {},
     "output_type": "display_data"
    }
   ],
   "source": [
    "# load final results\n",
    "final_df = pd.read_json(JSON_FILE)\n",
    "display(final_df.head(), final_df.tail())"
   ]
  },
  {
   "cell_type": "code",
   "execution_count": 16,
   "id": "4716f9ae",
   "metadata": {},
   "outputs": [
    {
     "data": {
      "text/plain": [
       "0"
      ]
     },
     "execution_count": 16,
     "metadata": {},
     "output_type": "execute_result"
    }
   ],
   "source": [
    "# check for duplicate IDs\n",
    "final_df.duplicated(subset='id').sum()"
   ]
  },
  {
   "cell_type": "code",
   "execution_count": 17,
   "id": "c19b8ce2",
   "metadata": {},
   "outputs": [],
   "source": [
    "# save the final results to a compressed csv\n",
    "final_df.to_csv('Data/final_results_ramen.csv.gz', compression='gzip',index=False)"
   ]
  }
 ],
 "metadata": {
  "kernelspec": {
   "display_name": "Python (dojo-env)",
   "language": "python",
   "name": "dojo-env"
  },
  "language_info": {
   "codemirror_mode": {
    "name": "ipython",
    "version": 3
   },
   "file_extension": ".py",
   "mimetype": "text/x-python",
   "name": "python",
   "nbconvert_exporter": "python",
   "pygments_lexer": "ipython3",
   "version": "3.8.13"
  },
  "toc": {
   "base_numbering": 1,
   "nav_menu": {},
   "number_sections": false,
   "sideBar": true,
   "skip_h1_title": false,
   "title_cell": "Table of Contents",
   "title_sidebar": "Contents",
   "toc_cell": false,
   "toc_position": {},
   "toc_section_display": true,
   "toc_window_display": false
  }
 },
 "nbformat": 4,
 "nbformat_minor": 5
}
